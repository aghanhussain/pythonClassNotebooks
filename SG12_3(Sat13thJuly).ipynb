{
 "cells": [
  {
   "cell_type": "markdown",
   "metadata": {},
   "source": [
    "# Inheritance"
   ]
  },
  {
   "cell_type": "code",
   "execution_count": 1,
   "metadata": {},
   "outputs": [],
   "source": [
    "# code reuseability"
   ]
  },
  {
   "cell_type": "code",
   "execution_count": 20,
   "metadata": {},
   "outputs": [],
   "source": [
    "class Car():\n",
    "    def __init__(self, make, model, year):  # positional parameters\n",
    "        self.make = make                    # mandatory \n",
    "        self.model = model\n",
    "        self.year = year\n",
    "        self.odometerReading = 0\n",
    "    \n",
    "    def setOdometerReading(self,newReading):\n",
    "        self.odometerReading = newReading        \n",
    "    def getOdometerReading(self):\n",
    "        print(f\"current odometer reading is {self.odometerReading}\")   \n",
    "    def get_descriptive_name(self):\n",
    "        long_name = str(self.year) + ' ' + self.make + ' ' + self.model\n",
    "        return long_name.title() \n",
    "    def getFuelTankCapacity(self):\n",
    "        print(\"Car has 100 litre tank\")"
   ]
  },
  {
   "cell_type": "code",
   "execution_count": 27,
   "metadata": {},
   "outputs": [],
   "source": [
    "class ElectricCar(Car):\n",
    "    def __init__(self, make, model, year):\n",
    "        super(). __init__(make, model, year)\n",
    "        self.battery=100\n",
    "        self.engine = \"2000CC\"\n",
    "        self.software= \"Android\"\n",
    "    def getBatterySize(self):\n",
    "        print(f\"The electricCar battery size is {self.battery}\")\n",
    "    \n",
    "    def setBatterySize(self, newBatterySize):\n",
    "        self.battery = newBatterySize\n",
    "    #redifined parent class function in child class \n",
    "    def getFuelTankCapacity(self):\n",
    "        print(\"Electric car dosnt have fuel tank\")\n",
    "        \n",
    "eCar1 = ElectricCar(\"Hondai\", \"Rebond\", 2018)"
   ]
  },
  {
   "cell_type": "code",
   "execution_count": 28,
   "metadata": {},
   "outputs": [
    {
     "name": "stdout",
     "output_type": "stream",
     "text": [
      "The electricCar battery size is 100\n"
     ]
    }
   ],
   "source": [
    "eCar1.getBatterySize()"
   ]
  },
  {
   "cell_type": "code",
   "execution_count": 29,
   "metadata": {},
   "outputs": [],
   "source": [
    "eCar1.setBatterySize(150)"
   ]
  },
  {
   "cell_type": "code",
   "execution_count": 30,
   "metadata": {},
   "outputs": [
    {
     "name": "stdout",
     "output_type": "stream",
     "text": [
      "The electricCar battery size is 150\n"
     ]
    }
   ],
   "source": [
    "eCar1.getBatterySize()"
   ]
  },
  {
   "cell_type": "code",
   "execution_count": 31,
   "metadata": {},
   "outputs": [
    {
     "name": "stdout",
     "output_type": "stream",
     "text": [
      "Electric car dosnt have fuel tank\n"
     ]
    }
   ],
   "source": [
    "eCar1.getFuelTankCapacity()"
   ]
  },
  {
   "cell_type": "code",
   "execution_count": 37,
   "metadata": {},
   "outputs": [],
   "source": [
    "class Battery():\n",
    "    def __init__(self, size, amp, plates, comp):\n",
    "        self.batterySize=size\n",
    "        self.amp=amp\n",
    "        self.plates = plates\n",
    "        self.comp = comp\n",
    "    def getBatterySize(self):\n",
    "        print(f\"The electricCar battery size is {self.batterySize}\")\n",
    "    \n",
    "    def setBatterySize(self, newBatterySize):\n",
    "        self.battery = newBatterySize"
   ]
  },
  {
   "cell_type": "code",
   "execution_count": 38,
   "metadata": {},
   "outputs": [],
   "source": [
    "class ElectricCar(Car):\n",
    "    def __init__(self, make, model, year):\n",
    "        super(). __init__(make, model, year)\n",
    "        \n",
    "        self.engine = \"2000CC\"\n",
    "        self.software= \"Android\"\n",
    "        \n",
    "        self.battery = Battery(100,\"200amp\",27, \"AGS\")\n",
    "    \n",
    "    #redifined parent class function in child class \n",
    "    def getFuelTankCapacity(self):\n",
    "        print(\"Electric car dosnt have fuel tank\")"
   ]
  },
  {
   "cell_type": "code",
   "execution_count": 39,
   "metadata": {},
   "outputs": [],
   "source": [
    "eCar11 = ElectricCar(\"civiC\", \"hALO\", 2020)"
   ]
  },
  {
   "cell_type": "code",
   "execution_count": 40,
   "metadata": {},
   "outputs": [
    {
     "name": "stdout",
     "output_type": "stream",
     "text": [
      "The electricCar battery size is 100\n"
     ]
    }
   ],
   "source": [
    "eCar11.battery.getBatterySize()"
   ]
  },
  {
   "cell_type": "markdown",
   "metadata": {},
   "source": [
    "# File Handling "
   ]
  },
  {
   "cell_type": "code",
   "execution_count": 58,
   "metadata": {},
   "outputs": [
    {
     "name": "stdout",
     "output_type": "stream",
     "text": [
      "hello  python hello learning python\n",
      "++++++++\n",
      "hello  python hello learning python\n"
     ]
    }
   ],
   "source": [
    "with open(\"saylani.txt\", \"w\") as f:\n",
    "    f.write(\"i m teaching python \")\n",
    "    f.write(\"you are learning python\")\n",
    "\n",
    "with open(\"saylani.txt\", \"w\") as f:\n",
    "    f.write(\"hello  python \")\n",
    "    f.write(\"hello learning python\")\n",
    "\n",
    "    \n",
    "with open(\"saylani.txt\", \"r\") as reader:\n",
    "    print(reader.read())\n",
    "    print(\"++++++++\")\n",
    "    reader.seek(0)\n",
    "    print(reader.read())"
   ]
  },
  {
   "cell_type": "code",
   "execution_count": 62,
   "metadata": {},
   "outputs": [],
   "source": [
    "with open(\"saylani.txt\", \"a\") as file:\n",
    "    file.write(\"hahahahahaha\")"
   ]
  },
  {
   "cell_type": "code",
   "execution_count": 63,
   "metadata": {},
   "outputs": [
    {
     "name": "stdout",
     "output_type": "stream",
     "text": [
      "hello  python hello learning pythonhahahahahaha\n"
     ]
    }
   ],
   "source": [
    "with open(\"saylani.txt\", \"r\") as reader:\n",
    "    print(reader.read())"
   ]
  },
  {
   "cell_type": "code",
   "execution_count": 64,
   "metadata": {},
   "outputs": [],
   "source": [
    "with open(\"saylani123.txt\", \"a\") as file:\n",
    "    file.write(\"hahahahahaha\")"
   ]
  },
  {
   "cell_type": "code",
   "execution_count": 65,
   "metadata": {},
   "outputs": [
    {
     "name": "stdout",
     "output_type": "stream",
     "text": [
      "hahahahahaha\n"
     ]
    }
   ],
   "source": [
    "with open(\"saylani123.txt\",\"r\") as a:\n",
    "    print(a.read())"
   ]
  },
  {
   "cell_type": "code",
   "execution_count": 77,
   "metadata": {},
   "outputs": [
    {
     "name": "stdout",
     "output_type": "stream",
     "text": [
      "Hello worldaHello worldHello worldHello world\n",
      "\n"
     ]
    }
   ],
   "source": [
    "with open(\"saylani123.txt\", \"r+\") as file:\n",
    "    \n",
    "    file.write(\"Hello world and we are learning\")\n",
    "    #print(file.read())\n",
    "    #print(\"++++++\")\n",
    "    #print(file.read())\n",
    "    file.readline?\n",
    "    print(file.readline())"
   ]
  },
  {
   "cell_type": "code",
   "execution_count": 78,
   "metadata": {},
   "outputs": [],
   "source": []
  },
  {
   "cell_type": "code",
   "execution_count": null,
   "metadata": {},
   "outputs": [],
   "source": []
  }
 ],
 "metadata": {
  "kernelspec": {
   "display_name": "Python 3",
   "language": "python",
   "name": "python3"
  },
  "language_info": {
   "codemirror_mode": {
    "name": "ipython",
    "version": 3
   },
   "file_extension": ".py",
   "mimetype": "text/x-python",
   "name": "python",
   "nbconvert_exporter": "python",
   "pygments_lexer": "ipython3",
   "version": "3.6.7"
  }
 },
 "nbformat": 4,
 "nbformat_minor": 2
}
