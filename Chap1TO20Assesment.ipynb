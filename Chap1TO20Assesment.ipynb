{
 "cells": [
  {
   "cell_type": "code",
   "execution_count": 1,
   "metadata": {},
   "outputs": [],
   "source": [
    "# Assessment from Smarter Way to Learn Python \n",
    "# 1: print\n",
    "# 2: Variables for Strings\n",
    "# 3: Variables for Numbers\n",
    "# 4: Math expressions: Familiar operators\n",
    "# 5: Variable Names Legal and Illegal\n",
    "# 6: Math expressions: Unfamiliar operators\n",
    "# 7: Math expressions: Eliminating ambiguity\n",
    "# 8: Concatenating text strings\n",
    "# 9: if statements\n",
    "# 10: Comparison operators\n",
    "# 11: else and elif statements\n",
    "# 12: Testing sets of conditions\n",
    "# 13: if statements nested\n",
    "# 14: Comments\n",
    "# 15: Lists\n",
    "# 16: Lists: Adding and changing elements\n",
    "# 17: Lists: Taking slices out of them\n",
    "# 18: Lists: Deleting and removing elements\n",
    "# 19: Lists: popping elements\n",
    "# 20: Tuples"
   ]
  },
  {
   "cell_type": "raw",
   "metadata": {},
   "source": [
    "#Chapter #1 \n",
    "#################\n",
    "######Print######\n",
    "#################"
   ]
  },
  {
   "cell_type": "markdown",
   "metadata": {},
   "source": [
    "Q1:What will be the output of the following:"
   ]
  },
  {
   "cell_type": "code",
   "execution_count": 3,
   "metadata": {},
   "outputs": [
    {
     "name": "stdout",
     "output_type": "stream",
     "text": [
      "my_name_is*Monty*Python*\n",
      "What is your name?\n"
     ]
    }
   ],
   "source": [
    "print(\"my\", \"name\", \"is\", sep=\"_\",end=\"*\")\n",
    "print(\"Monty\", \"Python\", sep=\"*\", end=\"*\\n\")\n",
    "print(\"What is your name?\")\n",
    "#A) my_name_is*Monty*Python*What is your name?\n",
    "#B) my*name*is*Monty*Python*What is your name?\n",
    "#C) my name is monty pyton What is your name?\n",
    "#D) my_name_is*Monty*Python*\n",
    "    #What is your name?\n"
   ]
  },
  {
   "cell_type": "markdown",
   "metadata": {},
   "source": [
    "Q2: Choose the correct output of the two print statement"
   ]
  },
  {
   "cell_type": "code",
   "execution_count": 10,
   "metadata": {},
   "outputs": [
    {
     "name": "stdout",
     "output_type": "stream",
     "text": [
      "This class is about Artificial Intelligence. \tAnd i am instructor\n"
     ]
    }
   ],
   "source": [
    "print(\"This class is about Artificial Intelligence.\",\"\\t\", end=\"\", )\n",
    "print(\"And i am your instructor\")\n",
    "#A) This class is about Artificial Intelligence.And i am your instructor\n",
    "#B) This class is about Artificial Intelligence.And i am your instructor\n",
    "#C) This class is about Artificial Intelligence.\n",
    "        #And i am your instructor\n",
    "#D) This class is about Artificial Intelligence.    And i am your instructor"
   ]
  },
  {
   "cell_type": "markdown",
   "metadata": {},
   "source": [
    "Q3: Which stement is cotrrect about the code given below:"
   ]
  },
  {
   "cell_type": "code",
   "execution_count": 15,
   "metadata": {},
   "outputs": [
    {
     "ename": "TypeError",
     "evalue": "must be str, not int",
     "output_type": "error",
     "traceback": [
      "\u001b[0;31m---------------------------------------------------------------------------\u001b[0m",
      "\u001b[0;31mTypeError\u001b[0m                                 Traceback (most recent call last)",
      "\u001b[0;32m<ipython-input-15-b1d5359aec38>\u001b[0m in \u001b[0;36m<module>\u001b[0;34m\u001b[0m\n\u001b[0;32m----> 1\u001b[0;31m \u001b[0mprint\u001b[0m\u001b[0;34m(\u001b[0m\u001b[0;34m\"2\"\u001b[0m \u001b[0;34m+\u001b[0m \u001b[0;36m2\u001b[0m\u001b[0;34m)\u001b[0m\u001b[0;34m\u001b[0m\u001b[0;34m\u001b[0m\u001b[0m\n\u001b[0m\u001b[1;32m      2\u001b[0m \u001b[0;31m# Will generate an error\u001b[0m\u001b[0;34m\u001b[0m\u001b[0;34m\u001b[0m\u001b[0;34m\u001b[0m\u001b[0m\n\u001b[1;32m      3\u001b[0m \u001b[0;31m# Will run smothly and print 4\u001b[0m\u001b[0;34m\u001b[0m\u001b[0;34m\u001b[0m\u001b[0;34m\u001b[0m\u001b[0m\n\u001b[1;32m      4\u001b[0m \u001b[0;31m# Will run smonthly and print 22\u001b[0m\u001b[0;34m\u001b[0m\u001b[0;34m\u001b[0m\u001b[0;34m\u001b[0m\u001b[0m\n\u001b[1;32m      5\u001b[0m \u001b[0;31m# ther will be no output\u001b[0m\u001b[0;34m\u001b[0m\u001b[0;34m\u001b[0m\u001b[0;34m\u001b[0m\u001b[0m\n",
      "\u001b[0;31mTypeError\u001b[0m: must be str, not int"
     ]
    }
   ],
   "source": [
    "print(\"2\" + 2)\n",
    "# Will generate an error \n",
    "# Will run smothly and print 4\n",
    "# Will run smonthly and print 22\n",
    "# ther will be no output"
   ]
  },
  {
   "cell_type": "markdown",
   "metadata": {},
   "source": [
    "Q4:The escape character owes its name to the fact that it:\n",
    "A) changes the meaning of the character next to it\n",
    "B) escapes from the source files into the computer memory\n",
    "C) Can not be caught due to its high speed\n",
    "    "
   ]
  },
  {
   "cell_type": "markdown",
   "metadata": {},
   "source": [
    "Q5: The print() function can output values of:"
   ]
  },
  {
   "cell_type": "code",
   "execution_count": 16,
   "metadata": {},
   "outputs": [
    {
     "ename": "SyntaxError",
     "evalue": "invalid syntax (<ipython-input-16-2b1e659d7e53>, line 1)",
     "output_type": "error",
     "traceback": [
      "\u001b[0;36m  File \u001b[0;32m\"<ipython-input-16-2b1e659d7e53>\"\u001b[0;36m, line \u001b[0;32m1\u001b[0m\n\u001b[0;31m    Select the correct answer (single choice):\u001b[0m\n\u001b[0m             ^\u001b[0m\n\u001b[0;31mSyntaxError\u001b[0m\u001b[0;31m:\u001b[0m invalid syntax\n"
     ]
    }
   ],
   "source": [
    "Select the correct answer (single choice):\n",
    "#not more than five arguments\n",
    "#just one argument\n",
    "#any number of arguments (including zero)\n",
    "#any number of arguments (excluding zero)"
   ]
  },
  {
   "cell_type": "code",
   "execution_count": 17,
   "metadata": {},
   "outputs": [],
   "source": [
    "#### CHAPTER2#####\n",
    "#####VARIABLE FOR NUMBERS############\n",
    "####################################"
   ]
  },
  {
   "cell_type": "markdown",
   "metadata": {},
   "source": [
    "Q: which of the following variable names are legal:"
   ]
  },
  {
   "cell_type": "code",
   "execution_count": null,
   "metadata": {},
   "outputs": [],
   "source": [
    "tRUE\n",
    "_myname\n"
   ]
  }
 ],
 "metadata": {
  "kernelspec": {
   "display_name": "Python 3",
   "language": "python",
   "name": "python3"
  },
  "language_info": {
   "codemirror_mode": {
    "name": "ipython",
    "version": 3
   },
   "file_extension": ".py",
   "mimetype": "text/x-python",
   "name": "python",
   "nbconvert_exporter": "python",
   "pygments_lexer": "ipython3",
   "version": "3.6.7"
  }
 },
 "nbformat": 4,
 "nbformat_minor": 2
}
