{
 "cells": [
  {
   "cell_type": "markdown",
   "metadata": {},
   "source": [
    "# **args, ***kargs"
   ]
  },
  {
   "cell_type": "code",
   "execution_count": 1,
   "metadata": {},
   "outputs": [],
   "source": [
    "def cars(model, make, *specs):\n",
    "    print(model, make)\n",
    "    print(specs)"
   ]
  },
  {
   "cell_type": "code",
   "execution_count": 2,
   "metadata": {},
   "outputs": [
    {
     "name": "stdout",
     "output_type": "stream",
     "text": [
      "2010 toyota corolla\n",
      "('alloyrim', 'tape', 'power windows')\n"
     ]
    }
   ],
   "source": [
    "cars(2010, 'toyota corolla', 'alloyrim', 'tape', 'power windows')"
   ]
  },
  {
   "cell_type": "code",
   "execution_count": 3,
   "metadata": {},
   "outputs": [
    {
     "name": "stdout",
     "output_type": "stream",
     "text": [
      "2010 toyota corolla\n",
      "('automatic',)\n"
     ]
    }
   ],
   "source": [
    "cars(2010, 'toyota corolla', 'automatic')"
   ]
  },
  {
   "cell_type": "code",
   "execution_count": 4,
   "metadata": {},
   "outputs": [
    {
     "name": "stdout",
     "output_type": "stream",
     "text": [
      "2015 honda civic\n",
      "(['alloyrim', 'tape', 'power windows'],)\n"
     ]
    }
   ],
   "source": [
    "cars(2015, 'honda civic', ['alloyrim', 'tape', 'power windows'])"
   ]
  },
  {
   "cell_type": "code",
   "execution_count": 5,
   "metadata": {},
   "outputs": [],
   "source": [
    "def pizza_order(name,size_of_pizza,flavour,*toppings):\n",
    "    print(\"Order is given by : \"+name)\n",
    "    print(\"Size of pizza is : \"+size_of_pizza)\n",
    "    print(\"Flavour of pizza is : \"+flavour)\n",
    "    print(\"Toppings are : \")\n",
    "    for topping in toppings:\n",
    "        print(topping)"
   ]
  },
  {
   "cell_type": "code",
   "execution_count": 6,
   "metadata": {},
   "outputs": [
    {
     "name": "stdout",
     "output_type": "stream",
     "text": [
      "Order is given by : Ali\n",
      "Size of pizza is : large\n",
      "Flavour of pizza is : Cheese\n",
      "Toppings are : \n",
      "Extra Cheesy\n",
      "Spicy\n",
      "Olives\n"
     ]
    }
   ],
   "source": [
    "pizza_order(\"Ali\",\"large\",\"Cheese\",\"Extra Cheesy\",\"Spicy\",\"Olives\")"
   ]
  },
  {
   "cell_type": "code",
   "execution_count": 7,
   "metadata": {},
   "outputs": [],
   "source": [
    "def person(fname, lname, **about):\n",
    "    print(fname, lname)\n",
    "    print(about)"
   ]
  },
  {
   "cell_type": "code",
   "execution_count": 8,
   "metadata": {},
   "outputs": [
    {
     "name": "stdout",
     "output_type": "stream",
     "text": [
      "hamza khan\n",
      "{'age': 25, 'address': 'karachi'}\n"
     ]
    }
   ],
   "source": [
    "person('hamza', 'khan', age = 25, address = 'karachi')"
   ]
  },
  {
   "cell_type": "code",
   "execution_count": 9,
   "metadata": {},
   "outputs": [
    {
     "name": "stdout",
     "output_type": "stream",
     "text": [
      "Tim Jhon\n",
      "{'age': 30, 'no': [2345, 5678], 'address': 'London'}\n"
     ]
    }
   ],
   "source": [
    "person('Tim', 'Jhon', age = 30, no = [2345, 5678], address = 'London')"
   ]
  },
  {
   "cell_type": "markdown",
   "metadata": {},
   "source": [
    "# Using function as a variable"
   ]
  },
  {
   "cell_type": "code",
   "execution_count": 13,
   "metadata": {},
   "outputs": [],
   "source": [
    "def add():\n",
    "    x = 3 + 5\n",
    "    return x"
   ]
  },
  {
   "cell_type": "code",
   "execution_count": 14,
   "metadata": {},
   "outputs": [],
   "source": [
    "def sub():\n",
    "    y = 23 - 9\n",
    "    return y"
   ]
  },
  {
   "cell_type": "code",
   "execution_count": 15,
   "metadata": {},
   "outputs": [],
   "source": [
    "answer  = add()+sub()"
   ]
  },
  {
   "cell_type": "code",
   "execution_count": 16,
   "metadata": {},
   "outputs": [
    {
     "data": {
      "text/plain": [
       "22"
      ]
     },
     "execution_count": 16,
     "metadata": {},
     "output_type": "execute_result"
    }
   ],
   "source": [
    "answer"
   ]
  },
  {
   "cell_type": "code",
   "execution_count": 24,
   "metadata": {},
   "outputs": [],
   "source": [
    "def salary(basic,commision):\n",
    "    total = basic + commision\n",
    "    print(f\" your salary is:{total} \")"
   ]
  },
  {
   "cell_type": "code",
   "execution_count": 25,
   "metadata": {},
   "outputs": [],
   "source": [
    "def commisionCalculator(sales):\n",
    "    if sales>=100000:\n",
    "        percentage = 30\n",
    "    elif sales>= 50000:\n",
    "        percentage = 20\n",
    "    elif sales >= 30000:\n",
    "        percentage = 10\n",
    "    elif sales >=10000:\n",
    "        percentage = 5\n",
    "    else:\n",
    "        percentage = 0\n",
    "    commission = sales/100*percentage\n",
    "    return commission\n",
    "    "
   ]
  },
  {
   "cell_type": "code",
   "execution_count": 27,
   "metadata": {},
   "outputs": [
    {
     "name": "stdout",
     "output_type": "stream",
     "text": [
      "Enter basic Salary:50000\n",
      "Enter sales:100000\n",
      " your salary is:80000.0 \n"
     ]
    }
   ],
   "source": [
    "basic = int(input(\"Enter basic Salary:\"))\n",
    "sales = int(input(\"Enter sales:\"))\n",
    "\n",
    "salary(basic,commisionCalculator(sales))\n",
    "    "
   ]
  },
  {
   "cell_type": "markdown",
   "metadata": {},
   "source": [
    "# Local and Global Variables"
   ]
  },
  {
   "cell_type": "code",
   "execution_count": 28,
   "metadata": {},
   "outputs": [],
   "source": [
    "# variables created inside the function body are local variables\n",
    "# local means they can not be accessed outside the function"
   ]
  },
  {
   "cell_type": "code",
   "execution_count": 52,
   "metadata": {},
   "outputs": [],
   "source": [
    "fruit = \"Apple\" # global \n",
    "\n",
    "def alocal():\n",
    "    a = 100   # local \n",
    "    \n",
    "    global fruit\n",
    "    fruit = \"Orange\" # global \n",
    "    print(fruit)\n",
    "    print(a)\n"
   ]
  },
  {
   "cell_type": "code",
   "execution_count": 54,
   "metadata": {},
   "outputs": [
    {
     "name": "stdout",
     "output_type": "stream",
     "text": [
      "Orange\n",
      "100\n",
      "Orange\n"
     ]
    }
   ],
   "source": [
    "alocal()\n",
    "print(fruit)"
   ]
  },
  {
   "cell_type": "code",
   "execution_count": 42,
   "metadata": {},
   "outputs": [
    {
     "name": "stdout",
     "output_type": "stream",
     "text": [
      "Apple\n"
     ]
    }
   ],
   "source": [
    "print(fruit)"
   ]
  },
  {
   "cell_type": "code",
   "execution_count": 43,
   "metadata": {},
   "outputs": [],
   "source": [
    "# accessing a local variable outside function body"
   ]
  },
  {
   "cell_type": "code",
   "execution_count": 45,
   "metadata": {},
   "outputs": [],
   "source": [
    "def alocal():\n",
    "    global a\n",
    "    \n",
    "    a = 100   # local \n",
    "    \n",
    "    fruit = \"Orange\" # global \n",
    "    print(fruit)\n",
    "    print(a)"
   ]
  },
  {
   "cell_type": "code",
   "execution_count": 48,
   "metadata": {},
   "outputs": [
    {
     "name": "stdout",
     "output_type": "stream",
     "text": [
      "Orange\n",
      "100\n"
     ]
    }
   ],
   "source": [
    "alocal()"
   ]
  },
  {
   "cell_type": "code",
   "execution_count": 49,
   "metadata": {},
   "outputs": [
    {
     "data": {
      "text/plain": [
       "100"
      ]
     },
     "execution_count": 49,
     "metadata": {},
     "output_type": "execute_result"
    }
   ],
   "source": [
    "a"
   ]
  },
  {
   "cell_type": "code",
   "execution_count": 51,
   "metadata": {},
   "outputs": [
    {
     "data": {
      "text/plain": [
       "'Apple'"
      ]
     },
     "execution_count": 51,
     "metadata": {},
     "output_type": "execute_result"
    }
   ],
   "source": [
    "fruit"
   ]
  },
  {
   "cell_type": "code",
   "execution_count": 58,
   "metadata": {},
   "outputs": [
    {
     "name": "stdout",
     "output_type": "stream",
     "text": [
      "0\n",
      "2\n",
      "4\n",
      "6\n",
      "8\n"
     ]
    }
   ],
   "source": [
    "for a in range(0,10,2):\n",
    "    print(a)"
   ]
  },
  {
   "cell_type": "code",
   "execution_count": 57,
   "metadata": {},
   "outputs": [
    {
     "name": "stdout",
     "output_type": "stream",
     "text": [
      "0\n",
      "2\n",
      "4\n",
      "6\n",
      "8\n"
     ]
    }
   ],
   "source": [
    "a =0\n",
    "while a<10:\n",
    "    print(a)\n",
    "    a +=2"
   ]
  },
  {
   "cell_type": "code",
   "execution_count": 60,
   "metadata": {},
   "outputs": [
    {
     "name": "stdout",
     "output_type": "stream",
     "text": [
      "Name bataen:asd\n",
      "asd\n",
      "Name bataen:saad\n",
      "saad\n",
      "Name bataen:werty\n",
      "werty\n",
      "Name bataen:aash\n",
      "aash\n",
      "Name bataen:gh\n",
      "gh\n"
     ]
    }
   ],
   "source": [
    "for a in range(5):\n",
    "    name = input(\"Name bataen:\")\n",
    "    print(name)"
   ]
  },
  {
   "cell_type": "code",
   "execution_count": 61,
   "metadata": {},
   "outputs": [
    {
     "name": "stdout",
     "output_type": "stream",
     "text": [
      "Name bataen:as\n",
      "as\n",
      "Name bataen:as\n",
      "as\n",
      "Name bataen:as\n",
      "as\n",
      "Name bataen:as\n",
      "as\n",
      "Name bataen:as\n",
      "as\n"
     ]
    }
   ],
   "source": [
    "a =0\n",
    "while a<5:\n",
    "    \n",
    "    name = input(\"Name bataen:\")\n",
    "    print(name)\n",
    "    a +=1"
   ]
  },
  {
   "cell_type": "code",
   "execution_count": 62,
   "metadata": {},
   "outputs": [
    {
     "name": "stdout",
     "output_type": "stream",
     "text": [
      "Enter name or type exit to quitqwert\n",
      "qwert\n",
      "Enter name or type exit to quitert\n",
      "ert\n",
      "Enter name or type exit to quittyuu\n",
      "tyuu\n",
      "Enter name or type exit to quitertyyu\n",
      "ertyyu\n",
      "Enter name or type exit to quit\n",
      "\n",
      "Enter name or type exit to quitertyy\n",
      "ertyy\n",
      "Enter name or type exit to quit\n",
      "\n",
      "Enter name or type exit to quittyyuu\n",
      "tyyuu\n",
      "Enter name or type exit to quitrttyy\n",
      "rttyy\n",
      "Enter name or type exit to quitexit\n",
      "exit\n"
     ]
    }
   ],
   "source": [
    "flag  = True\n",
    "while flag:\n",
    "    name = input(\"Enter name or type exit to quit\")\n",
    "    print(name)\n",
    "    if name==\"exit\":\n",
    "        flag = False"
   ]
  },
  {
   "cell_type": "markdown",
   "metadata": {},
   "source": [
    "# Classes"
   ]
  },
  {
   "cell_type": "code",
   "execution_count": 76,
   "metadata": {},
   "outputs": [],
   "source": [
    "class Patient():\n",
    "    def __init__(self, pid, pname, disease, age, gender=\"male\"):\n",
    "        self.pid = pid\n",
    "        self.pname = pname\n",
    "        self.disease=disease\n",
    "        self.age = age\n",
    "        self.gender = gender  "
   ]
  },
  {
   "cell_type": "code",
   "execution_count": 77,
   "metadata": {},
   "outputs": [],
   "source": [
    "p1 = Patient(111, \"gababr\", \"TB\", 34, \"male\")"
   ]
  },
  {
   "cell_type": "code",
   "execution_count": 80,
   "metadata": {},
   "outputs": [],
   "source": [
    "p2 = Patient(222, \"sambah\", \"Wounded\", 45)"
   ]
  },
  {
   "cell_type": "code",
   "execution_count": 81,
   "metadata": {},
   "outputs": [
    {
     "data": {
      "text/plain": [
       "34"
      ]
     },
     "execution_count": 81,
     "metadata": {},
     "output_type": "execute_result"
    }
   ],
   "source": [
    "p1.age"
   ]
  },
  {
   "cell_type": "code",
   "execution_count": 82,
   "metadata": {},
   "outputs": [
    {
     "data": {
      "text/plain": [
       "45"
      ]
     },
     "execution_count": 82,
     "metadata": {},
     "output_type": "execute_result"
    }
   ],
   "source": [
    "p2.age"
   ]
  },
  {
   "cell_type": "code",
   "execution_count": 83,
   "metadata": {},
   "outputs": [
    {
     "data": {
      "text/plain": [
       "111"
      ]
     },
     "execution_count": 83,
     "metadata": {},
     "output_type": "execute_result"
    }
   ],
   "source": [
    "p1.pid"
   ]
  },
  {
   "cell_type": "code",
   "execution_count": 74,
   "metadata": {},
   "outputs": [
    {
     "data": {
      "text/plain": [
       "'sambah'"
      ]
     },
     "execution_count": 74,
     "metadata": {},
     "output_type": "execute_result"
    }
   ],
   "source": [
    "p2.pname"
   ]
  },
  {
   "cell_type": "code",
   "execution_count": 79,
   "metadata": {},
   "outputs": [
    {
     "data": {
      "text/plain": [
       "'male'"
      ]
     },
     "execution_count": 79,
     "metadata": {},
     "output_type": "execute_result"
    }
   ],
   "source": [
    "p2.gender"
   ]
  },
  {
   "cell_type": "code",
   "execution_count": null,
   "metadata": {},
   "outputs": [],
   "source": []
  }
 ],
 "metadata": {
  "kernelspec": {
   "display_name": "Python 3",
   "language": "python",
   "name": "python3"
  },
  "language_info": {
   "codemirror_mode": {
    "name": "ipython",
    "version": 3
   },
   "file_extension": ".py",
   "mimetype": "text/x-python",
   "name": "python",
   "nbconvert_exporter": "python",
   "pygments_lexer": "ipython3",
   "version": "3.6.7"
  }
 },
 "nbformat": 4,
 "nbformat_minor": 2
}
