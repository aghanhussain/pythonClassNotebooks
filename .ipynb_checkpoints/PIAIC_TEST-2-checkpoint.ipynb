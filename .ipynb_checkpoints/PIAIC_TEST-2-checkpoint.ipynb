{
 "cells": [
  {
   "cell_type": "code",
   "execution_count": null,
   "metadata": {},
   "outputs": [],
   "source": [
    "#Q11: To add a new element to a list we use which command ?\n",
    "    list1.addEnd(5)\n",
    "    list1.addLast(5)\n",
    "    list1.append(5) * \n",
    "    list1.add(5)"
   ]
  },
  {
   "cell_type": "code",
   "execution_count": null,
   "metadata": {},
   "outputs": [],
   "source": [
    "#Q:12\n",
    "my_list = [3, 4, 5, 20, 5]\n",
    "print(my_list.index(20))\n",
    "what is the output of above statement\n",
    "a)0\n",
    "b)2\n",
    "c)3 *\n",
    "d)5"
   ]
  },
  {
   "cell_type": "code",
   "execution_count": null,
   "metadata": {},
   "outputs": [],
   "source": [
    "#Q:13 Which of the following pieces of code defines a list of all the numbers from 1 to 10?\n",
    "  a) range (1,10) \n",
    "  b) range (1,11) *\n",
    "  c) range (0,9)+1 \n",
    "  d) range (1,2,3,4,5,6,7,8,9,10)"
   ]
  },
  {
   "cell_type": "code",
   "execution_count": null,
   "metadata": {},
   "outputs": [],
   "source": [
    "#Q : 14 - What is the output of above statement\n",
    "x = 10\n",
    "y = 15\n",
    "z = y\n",
    "if(int(5) + int(20) == 25):\n",
    "    x = 15\n",
    "    y += 40\n",
    "else:\n",
    "    y = 10\n",
    "print(z)\n",
    "\n",
    "# a)15\n",
    "# b)40\n",
    "# c)45\n",
    "# d)None of above"
   ]
  },
  {
   "cell_type": "code",
   "execution_count": null,
   "metadata": {},
   "outputs": [],
   "source": [
    "#Q: 15 -In a Python program, a control structure:\n",
    "        \n",
    "       \n",
    "a)Defines program-specific data structures\n",
    "\n",
    "\n",
    "b)Dictates what happens before the program starts and after it terminates\n",
    "\n",
    "\n",
    "c)Directs the order of execution of the statements in the program * \n",
    "\n",
    "\n",
    "d)Manages the input and output of control characters"
   ]
  },
  {
   "cell_type": "code",
   "execution_count": null,
   "metadata": {},
   "outputs": [],
   "source": [
    "#Q16: - \n",
    "if 'bar' in {'foo': 1, 'bar': 2, 'baz': 3}:\n",
    "    print(1)\n",
    "    print(2)\n",
    "    if 'a' in 'qux':\n",
    "        print(3)\n",
    "print(4)\n",
    "\n",
    "# what is the output ?\n",
    "# a)  1\n",
    "#     2\n",
    "#     3\n",
    "#     4\n",
    "\n",
    "# b)4\n",
    "# c)doesn’t generate any output.\n",
    "# d)  1 *\n",
    "#     2\n",
    "#     4"
   ]
  },
  {
   "cell_type": "code",
   "execution_count": null,
   "metadata": {},
   "outputs": [],
   "source": [
    "#Q17: - The following if/elif/else statement will raise a KeyError exception:\n",
    "if d['a'] > 0:\n",
    "    print('ok')\n",
    "elif d['b'] > 0:\n",
    "    print('ok')\n",
    "elif d['c'] > 0:\n",
    "    print('ok')\n",
    "elif d['d'] > 0:\n",
    "    print('ok')\n",
    "else:\n",
    "    print('not ok')    \n",
    "    \n",
    "# a)True\n",
    "# b)False*"
   ]
  },
  {
   "cell_type": "code",
   "execution_count": null,
   "metadata": {},
   "outputs": [],
   "source": [
    "#18:-Which of the following are valid if/else statements in Python, \n",
    "   # assuming x and y are defined appropriately:\n",
    "\n",
    "\n",
    "a)if x < y: if x > 10: print('foo')\n",
    "b)if x < y: print('foo') else: print('bar')\n",
    "c)if x < y: print('foo')\n",
    "elif y < x: print('bar')\n",
    "else: print('baz') *\n",
    "d)all of above"
   ]
  },
  {
   "cell_type": "code",
   "execution_count": null,
   "metadata": {},
   "outputs": [],
   "source": [
    "#Q19:-What is value of this expression:\n",
    "'a' + 'x' if '123'.isdigit() else 'y' + 'b'\n",
    "\n",
    "\n",
    "# a)'axyb'\n",
    "# b)'ax'*\n",
    "# c)'axb'\n",
    "# d)'ab'     "
   ]
  },
  {
   "cell_type": "code",
   "execution_count": null,
   "metadata": {},
   "outputs": [],
   "source": [
    "#Q20:- \n",
    "x= 6\n",
    "y = str(5)\n",
    "print(x*y + y)\n",
    "# what is the output of the following?\n",
    "# a)30\n",
    "# b)5555555*\n",
    "# c)555555\n",
    "# d)35"
   ]
  },
  {
   "cell_type": "code",
   "execution_count": null,
   "metadata": {},
   "outputs": [],
   "source": [
    "#Q21:-\n",
    "calculation =  1 / 2 + 3 // 3 + 4 ** 2\n",
    "print(calculation)\n",
    "# what is the output of above statement?\n",
    "# a)Syntax Error\n",
    "# b)17.5*\n",
    "# c)6.5\n",
    "# d)16"
   ]
  },
  {
   "cell_type": "code",
   "execution_count": null,
   "metadata": {},
   "outputs": [],
   "source": [
    "#Q22:-\n",
    "foo = 8\n",
    "bar = 1\n",
    "foo_bar = bar < foo and foo > bar or bar > foo and foo < bar\n",
    "foo_bar\n",
    "# what will foo_bar return?\n",
    "# a)True*\n",
    "# b)False"
   ]
  },
  {
   "cell_type": "code",
   "execution_count": null,
   "metadata": {},
   "outputs": [],
   "source": [
    "#Q23:-\n",
    "my_list = [3, 1, -2 , 4 , 8]\n",
    "print(my_list[my_list[0]])\n",
    "# What item of list print on console?\n",
    "# a)3\n",
    "# b)Syntax Error\n",
    "# c)4*\n",
    "# d)Nothing Print on Screen"
   ]
  },
  {
   "cell_type": "code",
   "execution_count": null,
   "metadata": {},
   "outputs": [],
   "source": [
    "Q#24:-\n",
    "print(not(4>3)\n",
    "# what is the return output of above statement\n",
    "# a)False*\n",
    "# b)True"
   ]
  },
  {
   "cell_type": "code",
   "execution_count": null,
   "metadata": {},
   "outputs": [],
   "source": [
    "#Q25:-\n",
    "if (7 < 0) and (0 < -7): \n",
    "    print(\"abhi\") \n",
    "elif (7 > 0) or False: \n",
    "    print(\"love\") \n",
    "else: \n",
    "    print(\"geeksforgeeks\")\n",
    "# What condition should be run?\n",
    "# a)geeksforgeeks\n",
    "# b)love*\n",
    "# c)abhi\n",
    "# d)Error"
   ]
  },
  {
   "cell_type": "code",
   "execution_count": null,
   "metadata": {},
   "outputs": [],
   "source": [
    "26:-\n",
    "my_tuple = (1, 2, 3, 4) \n",
    "my_tuple.append(5)\n",
    "print(my_tuple[-1])\n",
    "what is the output after running this program?\n",
    "a)1\n",
    "b)4\n",
    "c)Error*\n",
    "d)5"
   ]
  },
  {
   "cell_type": "code",
   "execution_count": null,
   "metadata": {},
   "outputs": [],
   "source": [
    "#Q27:-\n",
    "t = (1, 2) \n",
    "print (2 * t)\n",
    "# What is the output of this program?\n",
    "# a)(1, 2, 1, 2)*\n",
    "# b)(1,2),(1,2)\n",
    "# c)Syntax Error\n",
    "# d)(1,2)(1,2)"
   ]
  },
  {
   "cell_type": "code",
   "execution_count": null,
   "metadata": {},
   "outputs": [],
   "source": [
    "#Q28:- \n",
    "str1 = '{2}, {1} and {0}'.format('a', 'b', 'c') \n",
    "str2 = '{0}{1}{0}'.format('abra', 'cad') \n",
    "print(str1, str2)\n",
    "# what is the output?\n",
    "# a)c, b and a abracadabra*\n",
    "# b)a, b and c abracadabra\n",
    "# c)Nothing print\n",
    "# d)Syntax Error"
   ]
  },
  {
   "cell_type": "code",
   "execution_count": null,
   "metadata": {},
   "outputs": [],
   "source": [
    "#Q29:-\n",
    "my_list = list('123456') \n",
    "my_list[0] = my_list[5] = 0\n",
    "my_list[3] = my_list[-2] \n",
    "print(my_list)\n",
    "# what should be printed on screen?\n",
    "# a)[0, '2', '3', '5', '5', 0]*\n",
    "# b)0, '2', '3', '5', '5', 0\n",
    "# c)Syntax Error\n",
    "# d)[\"0\", '2', '3', '5', '5', \"0\"]"
   ]
  },
  {
   "cell_type": "code",
   "execution_count": null,
   "metadata": {},
   "outputs": [],
   "source": [
    "#Q30:-What does the following code print to the console?\n",
    "\n",
    "if False:\n",
    "    print(\"Nissan\")\n",
    "elif not(True):\n",
    "    print(\"Ford\")\n",
    "elif True:\n",
    "    print(\"BMW\")\n",
    "else:\n",
    "    print(\"Audi\")\n",
    "\n",
    "\n",
    "# a)Audi\n",
    "# b)Nissan\n",
    "# c)BMW*\n",
    "# d)Ford"
   ]
  },
  {
   "cell_type": "code",
   "execution_count": null,
   "metadata": {},
   "outputs": [],
   "source": [
    "Q#31:-\n",
    "name = \"snow storm\"\n",
    "print(name[6:8])\n",
    "# what is the slicing output?\n",
    "# a)st\n",
    "# b)to*\n",
    "# c)tor\n",
    "# d)Syntax Error"
   ]
  },
  {
   "cell_type": "code",
   "execution_count": null,
   "metadata": {},
   "outputs": [],
   "source": [
    "#Q32:-\n",
    "name = \"snow storm\"\n",
    "name[5] = 'X'\n",
    "print(name)\n",
    "# what is the output?\n",
    "# a)snow storm\n",
    "# b)snowXstorm\n",
    "# c)snow Xtorm\n",
    "# d)ERROR, this code will not run*"
   ]
  },
  {
   "cell_type": "code",
   "execution_count": null,
   "metadata": {},
   "outputs": [],
   "source": [
    "#Q33:-\n",
    "list_a = list(range(10))\n",
    "list_b = list_a[1:1]\n",
    "print(list_b)\n",
    "# How many items print in list_b?\n",
    "# a)1\n",
    "# b)2\n",
    "# c)0\n",
    "# d)list_b is empty*"
   ]
  },
  {
   "cell_type": "code",
   "execution_count": 52,
   "metadata": {},
   "outputs": [
    {
     "name": "stdout",
     "output_type": "stream",
     "text": [
      "[9, 7, 5, 3, 1]\n"
     ]
    }
   ],
   "source": [
    "#Q34 what will be the output of the following slice\n",
    "a = list(range(10))\n",
    "print(a[::-2]) "
   ]
  }
 ],
 "metadata": {
  "kernelspec": {
   "display_name": "Python 3",
   "language": "python",
   "name": "python3"
  },
  "language_info": {
   "codemirror_mode": {
    "name": "ipython",
    "version": 3
   },
   "file_extension": ".py",
   "mimetype": "text/x-python",
   "name": "python",
   "nbconvert_exporter": "python",
   "pygments_lexer": "ipython3",
   "version": "3.6.7"
  }
 },
 "nbformat": 4,
 "nbformat_minor": 2
}
