{
 "cells": [
  {
   "cell_type": "code",
   "execution_count": 115,
   "metadata": {},
   "outputs": [],
   "source": [
    "class Mobile():\n",
    "    #attributes >>>>>>>Varaible\n",
    "    def __init__(self, brand, color,price, memory,ram,):\n",
    "        self.mobileBrand = brand\n",
    "        self.mobileColor = color\n",
    "        self.mobilePrice = price\n",
    "        self.mobileMemory = memory\n",
    "        self.mobileRam = ram\n",
    "    def makeCall(self) :\n",
    "        print(f\"{self.mobileBrand} mobile is dailing\")\n",
    "    \n",
    "    def recvCall(self):\n",
    "        print(f\"{self.mobileBrand} mobile is receving a call\")\n",
    "    def pressKeyPad(self):\n",
    "        print(\"Key pad is pressed to dial a number or message\")"
   ]
  },
  {
   "cell_type": "code",
   "execution_count": 116,
   "metadata": {},
   "outputs": [],
   "source": [
    "mobile1 = Mobile(\"Nokia\", \"black\", 5000, \"32GB\", \"2GB\")\n",
    "mobile2 = Mobile(\"Samsung\", \"Blue\" ,10000,\"16GB\", \"4GB\")"
   ]
  },
  {
   "cell_type": "code",
   "execution_count": 117,
   "metadata": {},
   "outputs": [
    {
     "name": "stdout",
     "output_type": "stream",
     "text": [
      "Nokia mobile is dailing\n"
     ]
    }
   ],
   "source": [
    "mobile1.makeCall()"
   ]
  },
  {
   "cell_type": "code",
   "execution_count": 118,
   "metadata": {},
   "outputs": [
    {
     "name": "stdout",
     "output_type": "stream",
     "text": [
      "Samsung mobile is dailing\n"
     ]
    }
   ],
   "source": [
    "mobile2.makeCall()"
   ]
  },
  {
   "cell_type": "code",
   "execution_count": 119,
   "metadata": {},
   "outputs": [],
   "source": [
    "class Student():\n",
    "    def __init__(self, name, gender, course, email):\n",
    "        self.name = name\n",
    "        self.gender=gender\n",
    "        self.course =course\n",
    "        self.email=email\n",
    "        self.GPA = 0\n",
    "        \n",
    "    def getGPA(self):\n",
    "        print(f\"The GPA of {self.name} is {self.GPA}\")    \n",
    "    def setGPA(self, newGPA):\n",
    "        self.GPA = newGPA    \n",
    "    def study(self):\n",
    "        print(f\"{self.name} is studying\")\n",
    "    def exam(self):\n",
    "        print(f\"{self.name} is appearing in exam\")\n",
    "    def submitAssignment(self):\n",
    "        print(f\"{self.name} is submitting assigment\")"
   ]
  },
  {
   "cell_type": "code",
   "execution_count": 120,
   "metadata": {},
   "outputs": [],
   "source": [
    "s1 = Student(\"Nasir\",\"M\", \"AI\", \"aghanhussain@gmail.com\" )"
   ]
  },
  {
   "cell_type": "code",
   "execution_count": 121,
   "metadata": {},
   "outputs": [],
   "source": [
    "s2 = Student(\"Hussain\", \"M\", \"AI\", \"hussain@gmail.com\")"
   ]
  },
  {
   "cell_type": "markdown",
   "metadata": {},
   "source": [
    "# Updating a value of attribute via function"
   ]
  },
  {
   "cell_type": "code",
   "execution_count": 122,
   "metadata": {},
   "outputs": [
    {
     "name": "stdout",
     "output_type": "stream",
     "text": [
      "The GPA of Nasir is 0\n"
     ]
    }
   ],
   "source": [
    "s1.getGPA()"
   ]
  },
  {
   "cell_type": "code",
   "execution_count": 123,
   "metadata": {},
   "outputs": [
    {
     "name": "stdout",
     "output_type": "stream",
     "text": [
      "The GPA of Hussain is 0\n"
     ]
    }
   ],
   "source": [
    "s2.getGPA()"
   ]
  },
  {
   "cell_type": "code",
   "execution_count": 124,
   "metadata": {},
   "outputs": [],
   "source": [
    "s1.setGPA(4)"
   ]
  },
  {
   "cell_type": "code",
   "execution_count": 125,
   "metadata": {},
   "outputs": [
    {
     "name": "stdout",
     "output_type": "stream",
     "text": [
      "The GPA of Nasir is 4\n"
     ]
    }
   ],
   "source": [
    "s1.getGPA()"
   ]
  },
  {
   "cell_type": "markdown",
   "metadata": {},
   "source": [
    "# Inheritance"
   ]
  },
  {
   "cell_type": "code",
   "execution_count": 133,
   "metadata": {},
   "outputs": [],
   "source": [
    "class Mobile():\n",
    "    #attributes >>>>>>>Varaible\n",
    "    def __init__(self, brand, color,price, memory,ram,):\n",
    "        self.mobileBrand = brand\n",
    "        self.mobileColor = color\n",
    "        self.mobilePrice = price\n",
    "        self.mobileMemory = memory\n",
    "        self.mobileRam = ram\n",
    "    def makeCall(self) :\n",
    "        print(f\"{self.mobileBrand} mobile is dailing\")\n",
    "    \n",
    "    def recvCall(self):\n",
    "        print(f\"{self.mobileBrand} mobile is receving a call\")\n",
    "    \n",
    "    def pressKeyPad(self):\n",
    "        print(\"Key pad is pressed to dial a number or message\")"
   ]
  },
  {
   "cell_type": "code",
   "execution_count": 134,
   "metadata": {},
   "outputs": [],
   "source": [
    "class SmartMobile(Mobile): \n",
    "    def __init__(self, brand, color, price, memory, ram):\n",
    "        super(). __init__(brand, color, price, memory, ram)\n",
    "        self.battery = \"10amp\"\n",
    "    def camera(self):\n",
    "        print(\"Smart Camera is ON\") \n",
    "        \n",
    "    def pressKeyPad(self):\n",
    "        print(\"There is no keypad in smartphone\")  \n",
    "        \n",
    "        "
   ]
  },
  {
   "cell_type": "code",
   "execution_count": 135,
   "metadata": {},
   "outputs": [],
   "source": [
    "sm1 = SmartMobile(\"Nokia\", \"black\", 5000, \"32GB\", \"2GB\")"
   ]
  },
  {
   "cell_type": "code",
   "execution_count": 132,
   "metadata": {},
   "outputs": [
    {
     "name": "stdout",
     "output_type": "stream",
     "text": [
      "There is no keypad in smartphone\n"
     ]
    }
   ],
   "source": [
    "sm1.pressKeyPad()"
   ]
  },
  {
   "cell_type": "code",
   "execution_count": null,
   "metadata": {},
   "outputs": [],
   "source": []
  },
  {
   "cell_type": "code",
   "execution_count": null,
   "metadata": {},
   "outputs": [],
   "source": []
  }
 ],
 "metadata": {
  "kernelspec": {
   "display_name": "Python 3",
   "language": "python",
   "name": "python3"
  },
  "language_info": {
   "codemirror_mode": {
    "name": "ipython",
    "version": 3
   },
   "file_extension": ".py",
   "mimetype": "text/x-python",
   "name": "python",
   "nbconvert_exporter": "python",
   "pygments_lexer": "ipython3",
   "version": "3.6.7"
  }
 },
 "nbformat": 4,
 "nbformat_minor": 2
}
