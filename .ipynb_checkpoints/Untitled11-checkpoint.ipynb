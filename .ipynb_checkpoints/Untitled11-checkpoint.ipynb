{
 "cells": [
  {
   "cell_type": "code",
   "execution_count": 51,
   "metadata": {},
   "outputs": [],
   "source": [
    "class Mobile():\n",
    "    #attributes >>>>>>>Varaible\n",
    "    def __init__(self, brand, color,price, memory,ram,):\n",
    "        self.mobileBrand = brand\n",
    "        self.mobileColor = color\n",
    "        self.mobilePrice = price\n",
    "        self.mobileMemory = memory\n",
    "        self.mobileRam = ram\n",
    "    def makeCall(self) :\n",
    "        print(f\"{self.mobileBrand} mobile is dailing\")\n",
    "    \n",
    "    def recvCall(self):\n",
    "        print(f\"{self.mobileBrand} mobile is receving a call\")\n"
   ]
  },
  {
   "cell_type": "code",
   "execution_count": 52,
   "metadata": {},
   "outputs": [],
   "source": [
    "mobile1 = Mobile(\"Nokia\", \"black\", 5000, \"32GB\", \"2GB\")\n",
    "mobile2 = Mobile(\"Samsung\", \"Blue\" ,10000,\"16GB\", \"4GB\")"
   ]
  },
  {
   "cell_type": "code",
   "execution_count": 53,
   "metadata": {},
   "outputs": [
    {
     "name": "stdout",
     "output_type": "stream",
     "text": [
      "Nokia mobile is dailing\n"
     ]
    }
   ],
   "source": [
    "mobile1.makeCall()"
   ]
  },
  {
   "cell_type": "code",
   "execution_count": 55,
   "metadata": {},
   "outputs": [
    {
     "name": "stdout",
     "output_type": "stream",
     "text": [
      "Samsung mobile is dailing\n"
     ]
    }
   ],
   "source": [
    "mobile2.makeCall()"
   ]
  },
  {
   "cell_type": "code",
   "execution_count": 56,
   "metadata": {},
   "outputs": [],
   "source": [
    "class Student():\n",
    "    def __init__(self, name, gender, course, email):\n",
    "        self.name = name\n",
    "        self.gender=gender\n",
    "        self.course =course\n",
    "        self.email=email\n",
    "    def study(self):\n",
    "        print(f\"{self.name} is studying\")\n",
    "    def exam(self):\n",
    "        print(f\"{self.name} is appearing in exam\")\n",
    "    def submitAssignment():\n",
    "        print(f\"{self.name} is submitting assigment\")"
   ]
  },
  {
   "cell_type": "code",
   "execution_count": 57,
   "metadata": {},
   "outputs": [],
   "source": [
    "s1 = Student(\"Nasir\",\"M\", \"AI\", \"aghanhussain@gmail.com\" )"
   ]
  },
  {
   "cell_type": "code",
   "execution_count": null,
   "metadata": {},
   "outputs": [],
   "source": []
  }
 ],
 "metadata": {
  "kernelspec": {
   "display_name": "Python 3",
   "language": "python",
   "name": "python3"
  },
  "language_info": {
   "codemirror_mode": {
    "name": "ipython",
    "version": 3
   },
   "file_extension": ".py",
   "mimetype": "text/x-python",
   "name": "python",
   "nbconvert_exporter": "python",
   "pygments_lexer": "ipython3",
   "version": "3.6.7"
  }
 },
 "nbformat": 4,
 "nbformat_minor": 2
}
