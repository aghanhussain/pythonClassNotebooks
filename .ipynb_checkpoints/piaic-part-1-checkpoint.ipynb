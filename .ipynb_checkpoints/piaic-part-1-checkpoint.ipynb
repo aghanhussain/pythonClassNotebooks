{
 "cells": [
  {
   "cell_type": "code",
   "execution_count": null,
   "metadata": {},
   "outputs": [],
   "source": [
    "#Q1:-Which of the following statements is true?\n",
    "\n",
    "# a)Python is a high level programming language\n",
    "# b)Python is an interpreted language.\n",
    "# c)Python is an object-oriented language.\n",
    "# d)All of the above*\n"
   ]
  },
  {
   "cell_type": "code",
   "execution_count": null,
   "metadata": {},
   "outputs": [],
   "source": [
    "#Q2:-\n",
    "statement = “2 + 2  = ”\n",
    "num_one = 2\n",
    "num_two = 2\n",
    "print(statement + “  ” + str(num_one) + str(num_ two))\n",
    "# what is the output of above statement ?\n",
    "\n",
    "# a)2 + 2  = 22*\n",
    "# b)2 + 2 =  4\n",
    "# c)TypeError  \n",
    "# d)None of above\n"
   ]
  },
  {
   "cell_type": "code",
   "execution_count": null,
   "metadata": {},
   "outputs": [],
   "source": [
    "#Q3:-Which of the following statement about variable is correct?\n",
    "\n",
    "# Variable name can start with an underscore.*\n",
    "# Variable name can start with a digit.\n",
    "# Variable name can have symbols like: @, #, $ etc.\n",
    "# We can enclose a variable in quotation\n"
   ]
  },
  {
   "cell_type": "code",
   "execution_count": null,
   "metadata": {},
   "outputs": [],
   "source": [
    "#Q4:-What is the output of the following code?\n",
    "print(1, 2, 3, 4, sep='*')\t\n",
    "# a)1 2 3 4\n",
    "# b)1234\n",
    "# c)1*2*3*4 *\n",
    "# d)24\n"
   ]
  },
  {
   "cell_type": "code",
   "execution_count": null,
   "metadata": {},
   "outputs": [],
   "source": [
    "#Q5:-\n",
    "x = 5\n",
    "x+=5\n",
    "x =2\n",
    "x-=2\n",
    "print(x)\n",
    "\n",
    "# what is the output of above statement?\n",
    "\n",
    "# a)2\n",
    "# b)10\n",
    "# c)5\n",
    "# d)0 *\n"
   ]
  },
  {
   "cell_type": "code",
   "execution_count": null,
   "metadata": {},
   "outputs": [],
   "source": [
    "#Q6:-\n",
    "whats_left_over = 10 % 3\n",
    "another_calculation = (10 * whats_left_over + 5) //2\n",
    "print(another_calculation)\n",
    "# a)30\n",
    "# b)7 * \n",
    "# c)12\n",
    "# d)1\n"
   ]
  },
  {
   "cell_type": "code",
   "execution_count": null,
   "metadata": {},
   "outputs": [],
   "source": [
    "#Q7:-\n",
    "33.0 == 33\n",
    "# What is the output of above statement\n",
    "# a)True *\n",
    "# b)False\n",
    "# c)33\n",
    "# d)None of above\n"
   ]
  },
  {
   "cell_type": "code",
   "execution_count": null,
   "metadata": {},
   "outputs": [],
   "source": [
    "#Q8:-\n",
    "if False:\n",
    "    print(\"Hello\")\n",
    "# What is the output ?\n",
    "# a)False\n",
    "# b)Hello\n",
    "# c)Nothing will be printed * \n",
    "# d)Syntax Error\n"
   ]
  },
  {
   "cell_type": "code",
   "execution_count": null,
   "metadata": {},
   "outputs": [],
   "source": [
    "#Q9:-\n",
    "friends = ['john', 'kayli', 'nosha', 'azuka'] \n",
    "for friend in friends:\n",
    "    if friend == 'kayli':\n",
    "        print(friend.upper())\n",
    "    else:\n",
    "        print(friend.title())\n",
    "# What is the output?\n",
    "# a) John *\n",
    "# KAYLI\n",
    "# Nosha\n",
    "# Azuka\n",
    "# b) JOHN\n",
    "# KAYLI\n",
    "# NOSHA\n",
    "# AZUKA\n",
    "# c) JOHN\n",
    "# Kayli\n",
    "# NOSHA\n",
    "# AZUKA\n",
    "# d) john\n",
    "# kayli\n",
    "# nosha\n",
    "# azuka\n"
   ]
  },
  {
   "cell_type": "code",
   "execution_count": null,
   "metadata": {},
   "outputs": [],
   "source": [
    "#Q10:-\n",
    "0.1 + 0.2 == 0.3\n",
    "# What is the output ?\n",
    "# a)True\n",
    "# b)False *\n",
    "# c)Machine Dependent\n",
    "# d)Error\n"
   ]
  },
  {
   "cell_type": "code",
   "execution_count": null,
   "metadata": {},
   "outputs": [],
   "source": [
    "#Q11:Consider the following code:\n",
    "x= 2*2 ** 3\n",
    "# What is the value of x after above code is executed?\n",
    "# a)64\n",
    "# b)16 *\n",
    "# c)12\n",
    "# d)18\n"
   ]
  },
  {
   "cell_type": "code",
   "execution_count": null,
   "metadata": {},
   "outputs": [],
   "source": [
    "#Q12:-\n",
    "#Consider the following code:\n",
    "cars = ['bmw', 'audi', 'toyota', 'subaru']\n",
    "cars.sort(reverse=True)\n",
    "# What is the value of cars above code is executed?\n",
    "# a)['audi', 'bmw', 'subaru', 'toyota']\n",
    "# b)['toyota', 'subaru', 'bmw', 'audi'] *\n",
    "# c)['bmw', 'audi', 'toyota', 'subaru']\n",
    "# d)None of the above\n"
   ]
  },
  {
   "cell_type": "code",
   "execution_count": null,
   "metadata": {},
   "outputs": [],
   "source": []
  },
  {
   "cell_type": "code",
   "execution_count": null,
   "metadata": {},
   "outputs": [],
   "source": []
  },
  {
   "cell_type": "code",
   "execution_count": null,
   "metadata": {},
   "outputs": [],
   "source": []
  }
 ],
 "metadata": {
  "kernelspec": {
   "display_name": "Python 3",
   "language": "python",
   "name": "python3"
  },
  "language_info": {
   "codemirror_mode": {
    "name": "ipython",
    "version": 3
   },
   "file_extension": ".py",
   "mimetype": "text/x-python",
   "name": "python",
   "nbconvert_exporter": "python",
   "pygments_lexer": "ipython3",
   "version": "3.6.7"
  }
 },
 "nbformat": 4,
 "nbformat_minor": 2
}
