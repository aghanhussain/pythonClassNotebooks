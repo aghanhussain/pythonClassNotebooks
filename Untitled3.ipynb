{
 "cells": [
  {
   "cell_type": "code",
   "execution_count": 2,
   "metadata": {},
   "outputs": [],
   "source": [
    "with open(\"textfile.txt\",\"w\" ) as axiom:\n",
    "    axiom.write(\"Hello\")\n",
    "    "
   ]
  },
  {
   "cell_type": "code",
   "execution_count": 18,
   "metadata": {},
   "outputs": [],
   "source": [
    "with open(\"pi_digits.txt\",\"w\" ) as axiom:\n",
    "    axiom.write(\"Hello\")\n",
    "    axiom.write(\"world\")"
   ]
  },
  {
   "cell_type": "code",
   "execution_count": 19,
   "metadata": {},
   "outputs": [],
   "source": [
    "with open(\"pi_digits.txt\",\"w\" ) as axiom:\n",
    "    axiom.write(\"Ovverrided\")\n",
    "    "
   ]
  },
  {
   "cell_type": "code",
   "execution_count": 4,
   "metadata": {},
   "outputs": [],
   "source": [
    "with open(\"pi_digits.txt\",\"w\" ) as axiom:\n",
    "    axiom.write(\"Hello Pakistan\")"
   ]
  },
  {
   "cell_type": "code",
   "execution_count": 10,
   "metadata": {},
   "outputs": [],
   "source": [
    "axiom = open(\"pi_digits.txt\",\"w\" )\n",
    "axiom.write(\"asad\")\n",
    "axiom.close()"
   ]
  },
  {
   "cell_type": "code",
   "execution_count": 17,
   "metadata": {},
   "outputs": [],
   "source": [
    "axiom = open(\"abcd.txt\",\"w\" )\n",
    "axiom.write(\"asad\")\n",
    "axiom.write(\"khan\")\n",
    "axiom.close()\n"
   ]
  },
  {
   "cell_type": "code",
   "execution_count": 20,
   "metadata": {},
   "outputs": [],
   "source": [
    "axiom = open(\"/home/nasir/Desktop/abcd.txt\",\"w\" )\n",
    "axiom.write(\"asad\")\n",
    "axiom.write(\"khan\")\n",
    "axiom.close()"
   ]
  },
  {
   "cell_type": "code",
   "execution_count": 42,
   "metadata": {},
   "outputs": [
    {
     "name": "stdout",
     "output_type": "stream",
     "text": [
      "Ovverrided\n",
      "\n"
     ]
    }
   ],
   "source": [
    "with open(\"pi_digits.txt\",\"r\" ) as axiom:\n",
    "    print(axiom.read())\n",
    "    content = axiom.read()\n",
    "    \n",
    "    print(content)"
   ]
  },
  {
   "cell_type": "code",
   "execution_count": 32,
   "metadata": {},
   "outputs": [
    {
     "name": "stdout",
     "output_type": "stream",
     "text": [
      "\n"
     ]
    }
   ],
   "source": [
    "print(content)"
   ]
  },
  {
   "cell_type": "code",
   "execution_count": 33,
   "metadata": {},
   "outputs": [
    {
     "data": {
      "text/plain": [
       "0"
      ]
     },
     "execution_count": 33,
     "metadata": {},
     "output_type": "execute_result"
    }
   ],
   "source": [
    "len(content)"
   ]
  },
  {
   "cell_type": "code",
   "execution_count": 38,
   "metadata": {},
   "outputs": [],
   "source": [
    "with open(\"newfile.txt\", \"w\") as content:\n",
    "    content.write(\"this is a new file in write mode \\n\")\n",
    "    \n",
    "         "
   ]
  },
  {
   "cell_type": "code",
   "execution_count": 39,
   "metadata": {},
   "outputs": [],
   "source": [
    "with open(\"newfile.txt\", \"a\") as content:\n",
    "    content.write(\"this is a new file in append mode\")"
   ]
  },
  {
   "cell_type": "code",
   "execution_count": 54,
   "metadata": {},
   "outputs": [
    {
     "name": "stdout",
     "output_type": "stream",
     "text": [
      "hahah.....\n"
     ]
    }
   ],
   "source": [
    "with open(\"artificialIntellegence.txt\", \"r+\") as f:\n",
    "    f.write(\"hahahhahahaha\")\n",
    "    f.seek(0)\n",
    "    content= f.read()\n",
    "    print(content[0:5]+\".....\")"
   ]
  },
  {
   "cell_type": "code",
   "execution_count": null,
   "metadata": {},
   "outputs": [],
   "source": []
  }
 ],
 "metadata": {
  "kernelspec": {
   "display_name": "Python 3",
   "language": "python",
   "name": "python3"
  },
  "language_info": {
   "codemirror_mode": {
    "name": "ipython",
    "version": 3
   },
   "file_extension": ".py",
   "mimetype": "text/x-python",
   "name": "python",
   "nbconvert_exporter": "python",
   "pygments_lexer": "ipython3",
   "version": "3.6.7"
  }
 },
 "nbformat": 4,
 "nbformat_minor": 2
}
