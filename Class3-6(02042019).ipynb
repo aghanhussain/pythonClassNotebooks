{
 "cells": [
  {
   "cell_type": "code",
   "execution_count": 2,
   "metadata": {},
   "outputs": [
    {
     "data": {
      "text/plain": [
       "1"
      ]
     },
     "execution_count": 2,
     "metadata": {},
     "output_type": "execute_result"
    }
   ],
   "source": [
    "1//1"
   ]
  },
  {
   "cell_type": "code",
   "execution_count": 3,
   "metadata": {},
   "outputs": [
    {
     "data": {
      "text/plain": [
       "[0, 0]"
      ]
     },
     "execution_count": 3,
     "metadata": {},
     "output_type": "execute_result"
    }
   ],
   "source": [
    "[0 for i in range(1,3)]"
   ]
  },
  {
   "cell_type": "code",
   "execution_count": 4,
   "metadata": {},
   "outputs": [
    {
     "name": "stdout",
     "output_type": "stream",
     "text": [
      "0\n"
     ]
    }
   ],
   "source": [
    "l=[0,1,2,3]\n",
    "x=1\n",
    "for e in l:\n",
    "    x *=e\n",
    "print(x)"
   ]
  },
  {
   "cell_type": "code",
   "execution_count": 7,
   "metadata": {},
   "outputs": [
    {
     "name": "stdout",
     "output_type": "stream",
     "text": [
      "This is f1\n",
      "This is f2\n"
     ]
    }
   ],
   "source": [
    "def f1():\n",
    "    print(\"This is f1\")\n",
    "    \n",
    "    def f2():\n",
    "        print('This is f2')\n",
    "    f2()   \n",
    "f1()"
   ]
  },
  {
   "cell_type": "code",
   "execution_count": 8,
   "metadata": {},
   "outputs": [],
   "source": [
    "def say_something():\n",
    "    what_to_say = \"Hi\" \n",
    "    print(what_to_say)\n"
   ]
  },
  {
   "cell_type": "code",
   "execution_count": 12,
   "metadata": {},
   "outputs": [],
   "source": [
    "def say_something():\n",
    "    what_to_say = \"Hi\"\n",
    "    now_say_it()"
   ]
  },
  {
   "cell_type": "code",
   "execution_count": 13,
   "metadata": {},
   "outputs": [],
   "source": [
    "def now_say_it():\n",
    "    print(what_to_say)"
   ]
  },
  {
   "cell_type": "code",
   "execution_count": 14,
   "metadata": {},
   "outputs": [
    {
     "ename": "NameError",
     "evalue": "name 'what_to_say' is not defined",
     "output_type": "error",
     "traceback": [
      "\u001b[0;31m---------------------------------------------------------------------------\u001b[0m",
      "\u001b[0;31mNameError\u001b[0m                                 Traceback (most recent call last)",
      "\u001b[0;32m<ipython-input-14-3ac846c20982>\u001b[0m in \u001b[0;36m<module>\u001b[0;34m\u001b[0m\n\u001b[0;32m----> 1\u001b[0;31m \u001b[0msay_something\u001b[0m\u001b[0;34m(\u001b[0m\u001b[0;34m)\u001b[0m\u001b[0;34m\u001b[0m\u001b[0;34m\u001b[0m\u001b[0m\n\u001b[0m",
      "\u001b[0;32m<ipython-input-12-f4b76f7ee371>\u001b[0m in \u001b[0;36msay_something\u001b[0;34m()\u001b[0m\n\u001b[1;32m      1\u001b[0m \u001b[0;32mdef\u001b[0m \u001b[0msay_something\u001b[0m\u001b[0;34m(\u001b[0m\u001b[0;34m)\u001b[0m\u001b[0;34m:\u001b[0m\u001b[0;34m\u001b[0m\u001b[0;34m\u001b[0m\u001b[0m\n\u001b[1;32m      2\u001b[0m     \u001b[0mwhat_to_say\u001b[0m \u001b[0;34m=\u001b[0m \u001b[0;34m\"Hi\"\u001b[0m\u001b[0;34m\u001b[0m\u001b[0;34m\u001b[0m\u001b[0m\n\u001b[0;32m----> 3\u001b[0;31m     \u001b[0mnow_say_it\u001b[0m\u001b[0;34m(\u001b[0m\u001b[0;34m)\u001b[0m\u001b[0;34m\u001b[0m\u001b[0;34m\u001b[0m\u001b[0m\n\u001b[0m",
      "\u001b[0;32m<ipython-input-13-e16757b28549>\u001b[0m in \u001b[0;36mnow_say_it\u001b[0;34m()\u001b[0m\n\u001b[1;32m      1\u001b[0m \u001b[0;32mdef\u001b[0m \u001b[0mnow_say_it\u001b[0m\u001b[0;34m(\u001b[0m\u001b[0;34m)\u001b[0m\u001b[0;34m:\u001b[0m\u001b[0;34m\u001b[0m\u001b[0;34m\u001b[0m\u001b[0m\n\u001b[0;32m----> 2\u001b[0;31m     \u001b[0mprint\u001b[0m\u001b[0;34m(\u001b[0m\u001b[0mwhat_to_say\u001b[0m\u001b[0;34m)\u001b[0m\u001b[0;34m\u001b[0m\u001b[0;34m\u001b[0m\u001b[0m\n\u001b[0m",
      "\u001b[0;31mNameError\u001b[0m: name 'what_to_say' is not defined"
     ]
    }
   ],
   "source": [
    "say_something()"
   ]
  },
  {
   "cell_type": "code",
   "execution_count": 16,
   "metadata": {},
   "outputs": [
    {
     "name": "stdout",
     "output_type": "stream",
     "text": [
      "10 aaaaaa\n",
      "9 aaaaaa\n",
      "8 aaaaaa\n",
      "7 aaaaaa\n",
      "6 aaaaaa\n",
      "5 aaaaaa\n",
      "4 aaaaaa\n",
      "3 aaaaaa\n",
      "2 aaaaaa\n",
      "1 aaaaaa\n",
      "0 aaaaaa\n"
     ]
    }
   ],
   "source": [
    "a=10\n",
    "while a>=0:\n",
    "    print(a, \"aaaaaa\")\n",
    "    a -=1\n",
    "    \n",
    "    "
   ]
  },
  {
   "cell_type": "code",
   "execution_count": 19,
   "metadata": {},
   "outputs": [
    {
     "name": "stdout",
     "output_type": "stream",
     "text": [
      "0 aaaaaa\n",
      "1 aaaaaa\n",
      "2 aaaaaa\n",
      "3 aaaaaa\n",
      "4 aaaaaa\n",
      "5 aaaaaa\n",
      "6 aaaaaa\n",
      "7 aaaaaa\n",
      "8 aaaaaa\n",
      "9 aaaaaa\n",
      "10 aaaaaa\n"
     ]
    }
   ],
   "source": [
    "a=0\n",
    "while a<=10:\n",
    "    print(a,\"aaaaaa\")\n",
    "    a +=1"
   ]
  },
  {
   "cell_type": "code",
   "execution_count": 1,
   "metadata": {},
   "outputs": [
    {
     "name": "stdout",
     "output_type": "stream",
     "text": [
      "1 aaaaaa\n",
      "2 aaaaaa\n",
      "3 aaaaaa\n",
      "4 aaaaaa\n",
      "5 aaaaaa\n",
      "7 aaaaaa\n",
      "8 aaaaaa\n",
      "9 aaaaaa\n",
      "10 aaaaaa\n",
      "11 aaaaaa\n"
     ]
    }
   ],
   "source": [
    "a=0\n",
    "while a<=10:       # a[0,1,2,3,4,5,6,6], True\n",
    "    a +=1\n",
    "    if a==6:       #False,True\n",
    "        continue\n",
    "    print(a,\"aaaaaa\")\n",
    "    #a  +=1\n",
    "    "
   ]
  },
  {
   "cell_type": "code",
   "execution_count": 2,
   "metadata": {},
   "outputs": [
    {
     "name": "stdout",
     "output_type": "stream",
     "text": [
      "1 aaaaaa\n",
      "2 aaaaaa\n",
      "3 aaaaaa\n",
      "4 aaaaaa\n",
      "5 aaaaaa\n"
     ]
    }
   ],
   "source": [
    "a=0\n",
    "while a<=10:\n",
    "    a +=1\n",
    "    if a==6:\n",
    "        break\n",
    "    print(a,\"aaaaaa\")"
   ]
  },
  {
   "cell_type": "code",
   "execution_count": 3,
   "metadata": {},
   "outputs": [
    {
     "name": "stdout",
     "output_type": "stream",
     "text": [
      "Email sent to:  nasir\n",
      "Email sent to:  khan\n",
      "Email sent to:  zia\n",
      "Email sent to:  bilal\n"
     ]
    }
   ],
   "source": [
    "name=['nasir','khan','tahir','zia','bilal']\n",
    "i=0\n",
    "while i<len(name):\n",
    "    if name[i]=='tahir':#[0]\n",
    "        i+=1  \n",
    "        continue\n",
    "    print('Email sent to: ',name[i])\n",
    "    i+=1\n",
    "    "
   ]
  },
  {
   "cell_type": "code",
   "execution_count": 8,
   "metadata": {},
   "outputs": [
    {
     "name": "stdout",
     "output_type": "stream",
     "text": [
      "the name to be invited is saad\n",
      "the name to be invited is ahmed\n",
      "the name to be invited is amaar\n",
      "the name to be invited is zahid\n"
     ]
    }
   ],
   "source": [
    "list1=['saad','ahmed','haris','amaar','zahid']\n",
    "a=0\n",
    "while a<=((len(list1))-1):\n",
    "    a=a+1\n",
    "    if list1[a-1]=='haris':\n",
    "        continue\n",
    "    print('the name to be invited is' ,list1[a-1])"
   ]
  },
  {
   "cell_type": "code",
   "execution_count": 9,
   "metadata": {},
   "outputs": [
    {
     "name": "stdout",
     "output_type": "stream",
     "text": [
      "Invitation sent to : saad\n",
      "Invitation sent to : ahmed\n",
      "Invitation sent to : amaar\n",
      "Invitation sent to : zahid\n"
     ]
    }
   ],
   "source": [
    "i = 0\n",
    "while i <len(list1):\n",
    "    if list1[i] == \"haris\":\n",
    "        i+=1\n",
    "        continue\n",
    "    print(\"Invitation sent to : \" + list1[i])\n",
    "    i+=1"
   ]
  },
  {
   "cell_type": "code",
   "execution_count": 1,
   "metadata": {},
   "outputs": [
    {
     "name": "stdout",
     "output_type": "stream",
     "text": [
      "Enter a city, or q to quit:Cheyenne\n",
      "It's one of the cleanest cities\n",
      "Enter a city, or q to quit:karachi\n",
      "Enter a city, or q to quit:Santa\n",
      "It's one of the cleanest cities\n",
      "Enter a city, or q to quit:Tucson\n",
      "It's one of the cleanest cities\n",
      "Enter a city, or q to quit:Great Falls\n",
      "It's one of the cleanest cities\n",
      "Enter a city, or q to quit:Honolulu\n",
      "It's one of the cleanest cities\n",
      "Enter a city, or q to quit:q\\\n",
      "Enter a city, or q to quit:q\n"
     ]
    }
   ],
   "source": [
    "cleanest_cities = [\"Cheyenne\", \"Santa\", \"Tucson\",\"Great Falls\", \"Honolulu\"]\n",
    "\n",
    "user_input = \"\"\n",
    "while user_input != \"q\":\n",
    "    user_input = input(\"Enter a city, or q to quit:\")\n",
    "    if user_input != \"q\":\n",
    "        for a_clean_city in cleanest_cities:\n",
    "            if user_input == a_clean_city:\n",
    "                print(\"It's one of the cleanest cities\")\n",
    "    "
   ]
  },
  {
   "cell_type": "code",
   "execution_count": null,
   "metadata": {},
   "outputs": [],
   "source": []
  }
 ],
 "metadata": {
  "kernelspec": {
   "display_name": "Python 3",
   "language": "python",
   "name": "python3"
  },
  "language_info": {
   "codemirror_mode": {
    "name": "ipython",
    "version": 3
   },
   "file_extension": ".py",
   "mimetype": "text/x-python",
   "name": "python",
   "nbconvert_exporter": "python",
   "pygments_lexer": "ipython3",
   "version": "3.6.7"
  }
 },
 "nbformat": 4,
 "nbformat_minor": 2
}
