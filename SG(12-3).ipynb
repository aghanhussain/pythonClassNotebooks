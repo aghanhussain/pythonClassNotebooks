{
 "cells": [
  {
   "cell_type": "code",
   "execution_count": null,
   "metadata": {},
   "outputs": [],
   "source": [
    "class User():\n",
    "    def __init__(self, name, fname, gender, email):\n",
    "        self.name = name\n",
    "        self.fname= fname\n",
    "        self.gender = gender\n",
    "        self.email = email \n",
    "        self.loginAttempts= 0\n",
    "    def greetUser(self):\n",
    "        print(f\"Welcome User: {self.name}\")\n",
    "   \n",
    "    def setIncrementLoginAttempts(self, attempts):\n",
    "        self.loginAttempts +=attempts\n",
    "    \n",
    "    def getLoginAttempts(self):\n",
    "        print(f\"{self.name} has made {self.loginAttempts} attempts\")\n",
    "    \n",
    "    def describeUser(self):\n",
    "        print(f\"User name is {self.name}\")\n",
    "        print(f\"User email id is {self.email}\")\n",
    "        "
   ]
  }
 ],
 "metadata": {
  "kernelspec": {
   "display_name": "Python 3",
   "language": "python",
   "name": "python3"
  },
  "language_info": {
   "codemirror_mode": {
    "name": "ipython",
    "version": 3
   },
   "file_extension": ".py",
   "mimetype": "text/x-python",
   "name": "python",
   "nbconvert_exporter": "python",
   "pygments_lexer": "ipython3",
   "version": "3.6.7"
  }
 },
 "nbformat": 4,
 "nbformat_minor": 2
}
