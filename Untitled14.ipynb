{
 "cells": [
  {
   "cell_type": "code",
   "execution_count": 17,
   "metadata": {},
   "outputs": [],
   "source": [
    "num = 1000"
   ]
  },
  {
   "cell_type": "code",
   "execution_count": 18,
   "metadata": {},
   "outputs": [],
   "source": [
    "num1 = num"
   ]
  },
  {
   "cell_type": "code",
   "execution_count": 19,
   "metadata": {},
   "outputs": [
    {
     "data": {
      "text/plain": [
       "1000"
      ]
     },
     "execution_count": 19,
     "metadata": {},
     "output_type": "execute_result"
    }
   ],
   "source": [
    "num1"
   ]
  },
  {
   "cell_type": "code",
   "execution_count": 26,
   "metadata": {},
   "outputs": [],
   "source": [
    "val =1000"
   ]
  },
  {
   "cell_type": "code",
   "execution_count": 27,
   "metadata": {},
   "outputs": [
    {
     "data": {
      "text/plain": [
       "140610523560720"
      ]
     },
     "execution_count": 27,
     "metadata": {},
     "output_type": "execute_result"
    }
   ],
   "source": [
    "id(val)"
   ]
  },
  {
   "cell_type": "code",
   "execution_count": 29,
   "metadata": {},
   "outputs": [
    {
     "data": {
      "text/plain": [
       "140610523560272"
      ]
     },
     "execution_count": 29,
     "metadata": {},
     "output_type": "execute_result"
    }
   ],
   "source": [
    "id(num1)"
   ]
  },
  {
   "cell_type": "code",
   "execution_count": 23,
   "metadata": {},
   "outputs": [],
   "source": [
    "num2=1000"
   ]
  },
  {
   "cell_type": "code",
   "execution_count": 24,
   "metadata": {},
   "outputs": [
    {
     "data": {
      "text/plain": [
       "140610523561136"
      ]
     },
     "execution_count": 24,
     "metadata": {},
     "output_type": "execute_result"
    }
   ],
   "source": [
    "id(num2)"
   ]
  },
  {
   "cell_type": "code",
   "execution_count": 25,
   "metadata": {},
   "outputs": [],
   "source": [
    "a =1"
   ]
  },
  {
   "cell_type": "code",
   "execution_count": 14,
   "metadata": {},
   "outputs": [],
   "source": [
    "b=1"
   ]
  },
  {
   "cell_type": "code",
   "execution_count": 15,
   "metadata": {},
   "outputs": [
    {
     "data": {
      "text/plain": [
       "94119042443808"
      ]
     },
     "execution_count": 15,
     "metadata": {},
     "output_type": "execute_result"
    }
   ],
   "source": [
    "id(a)"
   ]
  },
  {
   "cell_type": "code",
   "execution_count": 16,
   "metadata": {},
   "outputs": [
    {
     "data": {
      "text/plain": [
       "94119042443808"
      ]
     },
     "execution_count": 16,
     "metadata": {},
     "output_type": "execute_result"
    }
   ],
   "source": [
    "id(b)"
   ]
  },
  {
   "cell_type": "code",
   "execution_count": 31,
   "metadata": {},
   "outputs": [],
   "source": [
    "c= 12"
   ]
  },
  {
   "cell_type": "code",
   "execution_count": 30,
   "metadata": {},
   "outputs": [
    {
     "data": {
      "text/plain": [
       "True"
      ]
     },
     "execution_count": 30,
     "metadata": {},
     "output_type": "execute_result"
    }
   ],
   "source": [
    "a is b"
   ]
  },
  {
   "cell_type": "code",
   "execution_count": 32,
   "metadata": {},
   "outputs": [
    {
     "data": {
      "text/plain": [
       "False"
      ]
     },
     "execution_count": 32,
     "metadata": {},
     "output_type": "execute_result"
    }
   ],
   "source": [
    "a is c"
   ]
  },
  {
   "cell_type": "code",
   "execution_count": 34,
   "metadata": {},
   "outputs": [
    {
     "data": {
      "text/plain": [
       "False"
      ]
     },
     "execution_count": 34,
     "metadata": {},
     "output_type": "execute_result"
    }
   ],
   "source": [
    "66 in [11,22,33,44,55]"
   ]
  },
  {
   "cell_type": "code",
   "execution_count": 37,
   "metadata": {},
   "outputs": [
    {
     "name": "stdout",
     "output_type": "stream",
     "text": [
      "0\n",
      "1\n",
      "2\n",
      "3\n",
      "4\n",
      "5\n",
      "6\n",
      "7\n",
      "8\n",
      "9\n"
     ]
    }
   ],
   "source": [
    "for a in range(10):\n",
    "    print(a)"
   ]
  },
  {
   "cell_type": "code",
   "execution_count": 36,
   "metadata": {},
   "outputs": [
    {
     "name": "stdout",
     "output_type": "stream",
     "text": [
      "0 hello\n",
      "1 hello\n",
      "2 hello\n",
      "3 hello\n",
      "4 hello\n",
      "5 hello\n"
     ]
    }
   ],
   "source": [
    "a=0\n",
    "\n",
    "while a<10:\n",
    "    print(a,\"hello\")\n",
    "    a +=1"
   ]
  },
  {
   "cell_type": "code",
   "execution_count": 38,
   "metadata": {},
   "outputs": [
    {
     "name": "stdin",
     "output_type": "stream",
     "text": [
      "enter your favourite books a\n",
      "enter your favourite books 4\n",
      "enter your favourite books 67\n",
      "enter your favourite books fg\n",
      "enter your favourite books fg\n",
      "enter your favourite books fg\n",
      "enter your favourite books fg\n",
      "enter your favourite books fg\n",
      "enter your favourite books fg\n",
      "enter your favourite books fgfg\n"
     ]
    }
   ],
   "source": [
    "favBooks=[]\n",
    "for a in range(10):\n",
    "    favBook =input(\"enter your favourite books\")\n",
    "    if favBook==\"Quit\":\n",
    "        break\n",
    "    else:\n",
    "        favBooks.append(favBook)\n",
    "        \n",
    "    \n",
    "    \n",
    "    "
   ]
  },
  {
   "cell_type": "code",
   "execution_count": 39,
   "metadata": {},
   "outputs": [
    {
     "name": "stdin",
     "output_type": "stream",
     "text": [
      "enter your favourite books a\n",
      "enter your favourite books d\n",
      "enter your favourite books f\n",
      "enter your favourite books g\n",
      "enter your favourite books h\n",
      "enter your favourite books h\n",
      "enter your favourite books gf\n",
      "enter your favourite books rf\n",
      "enter your favourite books s\n",
      "enter your favourite books d\n",
      "enter your favourite books f\n",
      "enter your favourite books gf\n",
      "enter your favourite books g\n",
      "enter your favourite books gh\n",
      "enter your favourite books h\n",
      "enter your favourite books h\n",
      "enter your favourite books h\n",
      "enter your favourite books h\n",
      "enter your favourite books h\n",
      "enter your favourite books h\n",
      "enter your favourite books h\n",
      "enter your favourite books h\n",
      "enter your favourite books h\n",
      "enter your favourite books h\n",
      "enter your favourite books h\n",
      "enter your favourite books h\n",
      "enter your favourite books h\n",
      "enter your favourite books ghj\n",
      "enter your favourite books ghj\n",
      "enter your favourite books hj\n",
      "enter your favourite books hj\n",
      "enter your favourite books hj\n",
      "enter your favourite books j\n",
      "enter your favourite books j\n",
      "enter your favourite books hj\n",
      "enter your favourite books gh\n",
      "enter your favourite books gh\n",
      "enter your favourite books g\n",
      "enter your favourite books g\n",
      "enter your favourite books h\n",
      "enter your favourite books h\n",
      "enter your favourite books g\n",
      "enter your favourite books \n",
      "enter your favourite books h\n",
      "enter your favourite books gh\n",
      "enter your favourite books g\n",
      "enter your favourite books Quit\n"
     ]
    }
   ],
   "source": [
    "flag = True\n",
    "favBooks=[]\n",
    "while flag:\n",
    "    \n",
    "    favBook =input(\"enter your favourite books\")\n",
    "    if favBook==\"Quit\":\n",
    "        flag =False\n",
    "    else:\n",
    "        favBooks.append(favBook)\n",
    "        \n",
    "        "
   ]
  },
  {
   "cell_type": "code",
   "execution_count": 50,
   "metadata": {},
   "outputs": [
    {
     "data": {
      "text/plain": [
       "'my roll number isAIC12345and my percentile is89.45454878'"
      ]
     },
     "execution_count": 50,
     "metadata": {},
     "output_type": "execute_result"
    }
   ],
   "source": [
    "roll_num = \"AIC12345\"\n",
    "percentile = 89.45454878\n",
    "\"my roll number is\"+roll_num+\"and my percentile is\"+str(percentile)"
   ]
  },
  {
   "cell_type": "code",
   "execution_count": 52,
   "metadata": {},
   "outputs": [
    {
     "data": {
      "text/plain": [
       "'my roll number is AIC12345 and my percentile is 89.454549'"
      ]
     },
     "execution_count": 52,
     "metadata": {},
     "output_type": "execute_result"
    }
   ],
   "source": [
    "\"my roll number is {} and my percentile is {:.6f}\".format(roll_num, percentile)"
   ]
  },
  {
   "cell_type": "code",
   "execution_count": null,
   "metadata": {},
   "outputs": [],
   "source": []
  },
  {
   "cell_type": "code",
   "execution_count": null,
   "metadata": {},
   "outputs": [],
   "source": []
  }
 ],
 "metadata": {
  "kernelspec": {
   "display_name": "Python 3",
   "language": "python",
   "name": "python3"
  },
  "language_info": {
   "codemirror_mode": {
    "name": "ipython",
    "version": 3
   },
   "file_extension": ".py",
   "mimetype": "text/x-python",
   "name": "python",
   "nbconvert_exporter": "python",
   "pygments_lexer": "ipython3",
   "version": "3.6.7"
  }
 },
 "nbformat": 4,
 "nbformat_minor": 2
}
